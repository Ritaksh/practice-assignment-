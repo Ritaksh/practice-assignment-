{
 "cells": [
  {
   "cell_type": "raw",
   "metadata": {},
   "source": [
    "1.\tWhat is conditional probability?\n"
   ]
  },
  {
   "cell_type": "markdown",
   "metadata": {},
   "source": [
    "In probability theory, conditional probability is a measure of the probability of an event occurring given that another event has occurred. "
   ]
  },
  {
   "cell_type": "markdown",
   "metadata": {},
   "source": [
    "\n",
    "2.\tDiscuss Bayes’s theorem."
   ]
  },
  {
   "cell_type": "markdown",
   "metadata": {},
   "source": [
    " It describes the probability of an event, based on prior knowledge of conditions that might be related to the event.\n",
    " \n",
    "P(A|B) = P(B|A)P(A)/P(B)\n",
    "\n",
    "Where A and B are events and P(B)≠0\n",
    "\n",
    "P(A|B) is a conditional probability: the likelihood of event A occurring given that B is true.\n",
    "P(B|A) is also a conditional probability: the likelihood of event B occurring given that A is true.\n",
    "P(A) and P(B) are the probabilities of observing A and B respectively; they are known as the marginal probability.\n"
   ]
  },
  {
   "cell_type": "markdown",
   "metadata": {},
   "source": [
    "\n",
    "3.\tExplain the step by step working of Naïve Bayes."
   ]
  },
  {
   "cell_type": "markdown",
   "metadata": {},
   "source": [
    "Algorithm steps:\n",
    "    \n",
    "Let’s consider that we have a binary classification problem i.e., we have two classes in our data as shown below.\n",
    "\n",
    "Now suppose if we are given with a new data point, to which class does that point belong to\n",
    "\n",
    "The formula for a point ‘X’ to belong in class1 can be written as:\n",
    "\n",
    "P(CLASS 1 | X) = P(X | CLASS 1 ) P(CLASS1)/P(X)\n",
    "\n",
    "Where the numbers represent the order in which we are going to calculate different probabilities.\n",
    "\n",
    "A similar formula can be utilised for class N as well.\n",
    "\n",
    "Probability of class 1 can be written as:  𝑃(𝑐𝑙𝑎𝑠𝑠1)=𝑁𝑢𝑚𝑏𝑒𝑟𝑜𝑓𝑝𝑜𝑖𝑛𝑡𝑠𝑖𝑛𝑐𝑙𝑎𝑠𝑠1/𝑇𝑜𝑡𝑎𝑙𝑛𝑢𝑚𝑏𝑒𝑟𝑜𝑓𝑝𝑜𝑖𝑛𝑡𝑠\n",
    "\n",
    "if we calculate the probability that X belongs to Class N.\n",
    "\n",
    " which class hase the higher probability the point belongs to that class.\n",
    " \n",
    " The approach discussed above can be generalised for multiclass problems as well. Suppose, P1, P2, P3…Pn are the probabilities for the classes C1,C2,C3…Cn, then the point X will belong to the class for which the probability is maximum. Or mathematically the point belongs to the result of :  𝑎𝑟𝑔𝑚𝑎𝑥(𝑃1,𝑃2,𝑃3….𝑃𝑛)"
   ]
  },
  {
   "cell_type": "code",
   "execution_count": null,
   "metadata": {},
   "outputs": [],
   "source": [
    "\n",
    "4.\tHow is Naïve Bayes different from other classification algorithms?"
   ]
  },
  {
   "cell_type": "markdown",
   "metadata": {},
   "source": [
    "A major difference in the way in which the Naïve Bayes algorithm works form other classification algorithms. It does not first try to learn how to classify the points. It directly uses the label to identify the two separate classes and then it predicts the class to which the new point shall belong."
   ]
  },
  {
   "cell_type": "code",
   "execution_count": null,
   "metadata": {},
   "outputs": [],
   "source": [
    "\n",
    "5.\tWhy is the algorithm called Naïve Bayes?"
   ]
  },
  {
   "cell_type": "markdown",
   "metadata": {},
   "source": [
    "The entire algorithm is based on Bayes’s theorem to calculate probability. So, it also carries forward the assumptions for the Bayes’s theorem. But those assumptions(that the features are independent) might not always be true when implemented over a real-world dataset. So, those assumptions are considered Naïve and hence the name."
   ]
  },
  {
   "cell_type": "code",
   "execution_count": null,
   "metadata": {},
   "outputs": [],
   "source": [
    "\n",
    "6.\tWhat is Gaussian Naïve Bayes?"
   ]
  },
  {
   "cell_type": "markdown",
   "metadata": {},
   "source": [
    "When dealing with continuous data, a typical assumption is that the continuous values associated with each class are distributed according to a Gaussian distribution.\n",
    "\n",
    "using the Gaussian Distribution, suppose the training data contain a continuous attribute, x. We first segment the data by the class, and then compute the mean and variance of x in each class. Let μc be the mean of the values in x associated with class c, and let σ2c be the variance of the values in x associated with class c. Then, the probability distribution of some value given a class, p(x=v|c), can be computed by plugging v into the equation for a Normal distribution parameterized by μc and σ2c. That is:\n",
    "\n",
    "𝑝(𝑥=𝑣|𝑐)=1/sqrt(2𝜋𝜎^2𝑐)*𝑒^−(𝑣−𝜇𝑐)^2/2𝜎^2𝑐"
   ]
  },
  {
   "cell_type": "code",
   "execution_count": null,
   "metadata": {},
   "outputs": [],
   "source": [
    "\n",
    "7.\tWhat are the advantages and disadvantages of Naïve Bayes?"
   ]
  },
  {
   "cell_type": "markdown",
   "metadata": {},
   "source": [
    "Advantages:\n",
    "\n",
    "Naive Bayes is extremely fast for both training and prediction as they not have to learn to create separate classes.\n",
    "\n",
    "Naive Bayes provides a direct probabilistic prediction.\n",
    "\n",
    "Naive Bayes is often easy to interpret.\n",
    "\n",
    "Naive Bayes has fewer (if any) parameters to tune\n",
    "\n",
    "Disadvantages:\n",
    "\n",
    "The algorithm assumes that the features are independent which is not always the scenario\n",
    "\n",
    "Zero Frequency i.e. if the category of any categorical variable is not seen in training data set even once then model assigns a zero probability to that category and then a prediction cannot be made."
   ]
  },
  {
   "cell_type": "code",
   "execution_count": null,
   "metadata": {},
   "outputs": [],
   "source": []
  }
 ],
 "metadata": {
  "kernelspec": {
   "display_name": "Python 3",
   "language": "python",
   "name": "python3"
  },
  "language_info": {
   "codemirror_mode": {
    "name": "ipython",
    "version": 3
   },
   "file_extension": ".py",
   "mimetype": "text/x-python",
   "name": "python",
   "nbconvert_exporter": "python",
   "pygments_lexer": "ipython3",
   "version": "3.8.3"
  }
 },
 "nbformat": 4,
 "nbformat_minor": 4
}
