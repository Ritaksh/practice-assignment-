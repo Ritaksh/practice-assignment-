{
 "cells": [
  {
   "cell_type": "markdown",
   "metadata": {},
   "source": [
    "1.\tWhat is Regression?"
   ]
  },
  {
   "cell_type": "code",
   "execution_count": 1,
   "metadata": {},
   "outputs": [],
   "source": [
    "# regression is a technique used to model and analyze the relationships between\n",
    "#variables and often times how they contribute and are related to producing a\n",
    "#particular outcome together."
   ]
  },
  {
   "cell_type": "markdown",
   "metadata": {},
   "source": [
    "2.\tWhat is Linear Regression?"
   ]
  },
  {
   "cell_type": "code",
   "execution_count": 2,
   "metadata": {},
   "outputs": [],
   "source": [
    "#linear regression is a linear approach to modeling the relationship between\n",
    "#a  dependent variable) and one or more independent variables"
   ]
  },
  {
   "cell_type": "markdown",
   "metadata": {},
   "source": [
    "3.\tWhen to use Linear Regression? Explain the equation of a straight line."
   ]
  },
  {
   "cell_type": "code",
   "execution_count": 3,
   "metadata": {},
   "outputs": [],
   "source": [
    "#Simple linear regression is useful for finding relationship between two \n",
    "#continuous variables.\n",
    "#The relationship between the variables is linear.\n",
    "#equation of straight line y = mx + c\n",
    "# where y = dependent variable ,x = independent variable , c is constant(intersect), m = slope"
   ]
  },
  {
   "cell_type": "markdown",
   "metadata": {},
   "source": [
    "4.\tWhat kind of plots will you use to showcase the relationship amongst the columns?"
   ]
  },
  {
   "cell_type": "code",
   "execution_count": 4,
   "metadata": {},
   "outputs": [],
   "source": [
    "# scatter plot"
   ]
  },
  {
   "cell_type": "markdown",
   "metadata": {},
   "source": [
    "5.\tHow is the best fit line chosen?"
   ]
  },
  {
   "cell_type": "code",
   "execution_count": 5,
   "metadata": {},
   "outputs": [],
   "source": [
    "# best fit line have  low total least squared distance of each point of data set to approximated regression line .least squared method calculate the distance and build or choose the best fit line  for the regression model."
   ]
  },
  {
   "cell_type": "markdown",
   "metadata": {},
   "source": [
    "6.\tWhat is gradient descent, and why is it used? Explain the maths."
   ]
  },
  {
   "cell_type": "code",
   "execution_count": 6,
   "metadata": {},
   "outputs": [],
   "source": [
    "# it is a optimization algorithhm used to minimize cost function of the model by moving in the ddirection of steepest descent  as negative side to achive the local minima(stable where no trade off conflict)\n",
    "# we use it to update the parameters of model\n",
    "#  equation of gradient descent   cost function -> f(m,b) = 1/n E(y - (mx+ b))\n",
    "#            gradient deent   -> f'(m,b)  = [df/dm] =   1/n E -2x(y - (mx+ b)) \n",
    "#                            -> f'(m,b) = [df/db] = 1/n E -2(y - (mx+b))"
   ]
  },
  {
   "cell_type": "markdown",
   "metadata": {},
   "source": [
    "7.\tWhat are residuals?"
   ]
  },
  {
   "cell_type": "code",
   "execution_count": 7,
   "metadata": {},
   "outputs": [],
   "source": [
    "#Residuals are the difference between an observed data value and a \n",
    "#predicted data value. They are also known as errors."
   ]
  },
  {
   "cell_type": "markdown",
   "metadata": {},
   "source": [
    "8.\tWhat is correlation?"
   ]
  },
  {
   "cell_type": "code",
   "execution_count": 8,
   "metadata": {},
   "outputs": [],
   "source": [
    "# Correlation is usually defined as a measure of the linear relationship between two quantitative variables\n",
    "# It measures the strength  and direction of the linear relationship between two or more variables\n",
    "# correlation can be postive or negative"
   ]
  },
  {
   "cell_type": "markdown",
   "metadata": {},
   "source": [
    "9.\tWhat is multicollinearity?"
   ]
  },
  {
   "cell_type": "code",
   "execution_count": 9,
   "metadata": {},
   "outputs": [],
   "source": [
    "#Multicollinearity generally occurs when there are high correlations between\n",
    "#two or more predictor variables.\n",
    "#"
   ]
  },
  {
   "cell_type": "markdown",
   "metadata": {},
   "source": [
    "10.\tHow to detect multicollinearity?\n"
   ]
  },
  {
   "cell_type": "code",
   "execution_count": 10,
   "metadata": {},
   "outputs": [],
   "source": [
    "# it is detect by VIF i.e variance infation Factor or by visulaized the dataset with heat map.\n",
    "# formula for VIF  = 1/1-R**2 (R**2 is residual square)"
   ]
  },
  {
   "cell_type": "markdown",
   "metadata": {},
   "source": [
    "11.\tWhat are the remedies for multicollinearity?"
   ]
  },
  {
   "cell_type": "code",
   "execution_count": 11,
   "metadata": {},
   "outputs": [],
   "source": [
    "#Remove some of the highly correlated independent variables.\n",
    "#Linearly combine the independent variables, such as adding them together.\n",
    "#Perform an analysis designed for highly correlated variables, such as principal\n",
    "#                      components analysis or partial least squares regression.\n"
   ]
  },
  {
   "cell_type": "markdown",
   "metadata": {},
   "source": [
    "12.\tWhat is the R-Squared Statistics?"
   ]
  },
  {
   "cell_type": "code",
   "execution_count": 12,
   "metadata": {},
   "outputs": [],
   "source": [
    "#r-squared  statistic interpret  how well the regression model fits the observed data. For example, an r-squared of 60% reveals that 60% \n",
    "#of the data fit the regression model. Generally.\n",
    "#A higher r-squared indicates a better fit for the model."
   ]
  },
  {
   "cell_type": "markdown",
   "metadata": {},
   "source": [
    "13.\tWhat is an adjusted R-Squared Statistics?"
   ]
  },
  {
   "cell_type": "code",
   "execution_count": 13,
   "metadata": {},
   "outputs": [],
   "source": [
    "#adjusted R-squared to compare the goodness-of-fit for regression models that contain differing numbers of independent variables.\n",
    "# formula adj R-SQUARED = 1 - (1-R**2)(N-1)/(N-P-1)"
   ]
  },
  {
   "cell_type": "markdown",
   "metadata": {},
   "source": [
    "14.\tWhy do we use adj R-squared?"
   ]
  },
  {
   "cell_type": "code",
   "execution_count": 14,
   "metadata": {},
   "outputs": [],
   "source": [
    "# adjusted r - squared is used to determines the how well your model fit the data when a new variable is added."
   ]
  },
  {
   "cell_type": "markdown",
   "metadata": {},
   "source": [
    "15.\tWhy adj R-squared decreases when we use incompetent variables?\n",
    "\n"
   ]
  },
  {
   "cell_type": "code",
   "execution_count": 15,
   "metadata": {},
   "outputs": [],
   "source": [
    "# when new varibale is added in model adjusted r-squared is decrease to some extent\n",
    "#because new varibale is not able to improve model performance and\n",
    "#it increase computationl of model .so its good  to remove this varibale as it not contribute in model performance\n"
   ]
  },
  {
   "cell_type": "markdown",
   "metadata": {},
   "source": [
    "16.\tHow to interpret a Linear Regression model?"
   ]
  },
  {
   "cell_type": "code",
   "execution_count": 16,
   "metadata": {},
   "outputs": [],
   "source": [
    "#Linear regression model is interpret in terms of p- value i.e probability value.\n",
    "#If th e p-value is below the significance value that means we reject\n",
    "#the model as it not fit hthe model properly and if above significance value then its best fit hte data point the significance\n",
    "#value depend upon data & requirement of our predictions. \n",
    " "
   ]
  },
  {
   "cell_type": "markdown",
   "metadata": {},
   "source": [
    "17.\tWhat is the difference between fit, fit_transform and predict methods?"
   ]
  },
  {
   "cell_type": "code",
   "execution_count": 17,
   "metadata": {},
   "outputs": [],
   "source": [
    "# fit = In Fit command we simply fit our data in particular model or algorithm/method(mean and standard deviation computation).\n",
    "# fit_transform = In this command we fit our data in algorithm and transform the data as per algorithm/method(mean and standard deviation computation and autoscale the value by this.).\n",
    "# predict command = it use the fitted & transformed data parameters on test data & do prediction."
   ]
  },
  {
   "cell_type": "markdown",
   "metadata": {},
   "source": [
    "18.\tHow do you plot the least squared line?"
   ]
  },
  {
   "cell_type": "code",
   "execution_count": 18,
   "metadata": {},
   "outputs": [],
   "source": [
    "# for least squared line for modeling we calculate the slope of line and intercept of the line on axis with the help of mean.\n",
    "# Scatterplot is used to plot the least squared line. \n"
   ]
  },
  {
   "cell_type": "markdown",
   "metadata": {},
   "source": [
    "19.\tWhat are Bias and Variance? What is Bias Variance Trade-off?"
   ]
  },
  {
   "cell_type": "code",
   "execution_count": 19,
   "metadata": {},
   "outputs": [],
   "source": [
    "# bias is measure of polarity of result means that the result is favoured to particular feature in outcome.\n",
    "# variance  is measure of  degree of spread of predicted result.\n",
    "# bias- variance trae off -  we need low bais and low variance for our model which give significant result. as we companseted the bias we go for increase the dat set so our model get trained on more data but this give increase the variance of data set.\n",
    "# so we need to balance the model which give low bias and low variance.this called bias variance trade -off.\n"
   ]
  },
  {
   "cell_type": "markdown",
   "metadata": {},
   "source": [
    "20.\tWhat is the null and alternate hypothesis?"
   ]
  },
  {
   "cell_type": "code",
   "execution_count": 20,
   "metadata": {},
   "outputs": [],
   "source": [
    "# hypothesis testing is testing which result the confidence interval of model.\n",
    "# we assume the two condition i.e null hypothesis and alternate hypothesis.\n",
    "# in one condition(null hypothesis) the is relation exist in variable (or depend on our condition).satisfy our requirements\n",
    "#  in other condition(alternate hypothesis) their is no relation in between variable.that not satisfy our requirements\n",
    "# we gone accept the null hypothesis or reject the hypotesis baed on requirement.\n",
    "# this is decided by p-va;ue calculation."
   ]
  },
  {
   "cell_type": "markdown",
   "metadata": {},
   "source": [
    "21.\tWhat is multiple linear regression?"
   ]
  },
  {
   "cell_type": "code",
   "execution_count": 21,
   "metadata": {},
   "outputs": [],
   "source": [
    "# in multiple linear regression their are multiple independent varibale which\n",
    "#  will use to predict the outecome or drive the dependent varibale.\n",
    "# equation = y = C + M1x1 + M2x2 + M3x3 +______ + Mnxn \n"
   ]
  },
  {
   "cell_type": "markdown",
   "metadata": {},
   "source": [
    "22.\tWhat is the OLS method? Derive the formulae used in the OLS method."
   ]
  },
  {
   "cell_type": "code",
   "execution_count": 22,
   "metadata": {},
   "outputs": [],
   "source": [
    "# ordinary least square method is used to predict parameters in ia linear regression model .\n",
    "#it choose the variable  of linear function based on least square method.\n",
    "#it minimize the sum of square of the differnce between  the observer and the predicted varible\n",
    "# formula = E(y - b0 - b1X) \n",
    "# by using rss(sum of residual square ) we derivate and and calculate the ols which will improve the model performance."
   ]
  },
  {
   "cell_type": "markdown",
   "metadata": {},
   "source": [
    "23.\tWhat is the p-value? How does it help in feature selection?"
   ]
  },
  {
   "cell_type": "code",
   "execution_count": 23,
   "metadata": {},
   "outputs": [],
   "source": [
    "# probability value is help u to determine the  wheather the relationship that our model predict in sample data also exit in larger polulation dats or not. p-value is infernation statistics  test the null hypothesis that variable has no correlation with the dependent varible.\n",
    "# as it can derive the feature which will contribute the in the pridicting varible or not.\n",
    "# p -value is should we less as for good.\n",
    "# in  real time we not use p- value to select feature selection "
   ]
  },
  {
   "cell_type": "markdown",
   "metadata": {},
   "source": [
    "24.\tHow to handle categorical values in the data?"
   ]
  },
  {
   "cell_type": "code",
   "execution_count": 24,
   "metadata": {},
   "outputs": [],
   "source": [
    "# Inthis situation there are many approches to deal with.\n",
    "# we simply convert or scale the category data to numerical or binary format.\n",
    "# dummy varible,label encoder,one hot encoding method to use to convert them.\n",
    "# it will assign the binary value to the differnt categorical data present in the feature."
   ]
  },
  {
   "cell_type": "markdown",
   "metadata": {},
   "source": [
    "25.\tWhat is regularization, and why do we need it?"
   ]
  },
  {
   "cell_type": "code",
   "execution_count": 25,
   "metadata": {},
   "outputs": [],
   "source": [
    "# there's chance the regression model overfit data set.Regularization is technique used to overcome overfit hte model by limit the weight coffiecient of the varibales.\n",
    "# in regression model we don't need huge weight .which will result small change in weights to huge change in dependent varible\n",
    "# in regularization model we add shrinkage factor to cost function. \n",
    "# there are different kind of regularization technique used\n",
    "# regularization helps to reduce the variance of the model, without a substantial increase in the bias"
   ]
  },
  {
   "cell_type": "markdown",
   "metadata": {},
   "source": [
    "26.\tExplain Ridge Regression."
   ]
  },
  {
   "cell_type": "code",
   "execution_count": 26,
   "metadata": {},
   "outputs": [],
   "source": [
    "# Ridge regularization limit the model by adding sum of square of magnitude of coefficient.\n",
    "#𝜆∗∑|𝛽2𝑗|\n",
    "# where lambda is shrinkage factor"
   ]
  },
  {
   "cell_type": "markdown",
   "metadata": {},
   "source": [
    "27.\tExplain Lasso Regression."
   ]
  },
  {
   "cell_type": "code",
   "execution_count": 27,
   "metadata": {},
   "outputs": [],
   "source": [
    "#Lasso regression limit the model based on the sum of magnitude of the coefficients.\n",
    "#𝜆∗∑|𝛽𝑗|\n",
    "#where lambda is shrinkage factor"
   ]
  },
  {
   "cell_type": "markdown",
   "metadata": {},
   "source": [
    "28.\tExplain Elastic Net."
   ]
  },
  {
   "cell_type": "code",
   "execution_count": 28,
   "metadata": {},
   "outputs": [],
   "source": [
    "# it is groud between the ridge and lasso regularization.it will control both \n",
    "# the ridge and lasso parameter.\n",
    "#   alpha parameter mixixng  parameter of  ridge and lasso reguarization.\n",
    "# alpha = 0 for ridge and alpha = 1 for lasso"
   ]
  },
  {
   "cell_type": "markdown",
   "metadata": {},
   "source": [
    "29.\tWhy do we do a train test split?"
   ]
  },
  {
   "cell_type": "code",
   "execution_count": 29,
   "metadata": {},
   "outputs": [],
   "source": [
    "# we split the dataset for training and testing . training data is used for train the model and \n",
    "# test data is use to test the pretrained model for model performance.it a good practice for \n",
    "# when we to elavuate the model and observe performance."
   ]
  },
  {
   "cell_type": "markdown",
   "metadata": {},
   "source": [
    "30.\tWhat is polynomial regression? When to use it?"
   ]
  },
  {
   "cell_type": "code",
   "execution_count": 30,
   "metadata": {},
   "outputs": [],
   "source": [
    "# polynomial regression a mechanism which derived  dependent variable by polynomial relationship between independent variable.\n",
    "# equation  = 𝑦=𝑎+𝑏𝑥+𝑐𝑥2+...+𝑛𝑥𝑛+...\n",
    "#  maximum degree of x is define as polynomial degree."
   ]
  },
  {
   "cell_type": "markdown",
   "metadata": {},
   "source": [
    "31.\tExplain the steps for GCP deployment."
   ]
  },
  {
   "cell_type": "code",
   "execution_count": 33,
   "metadata": {},
   "outputs": [],
   "source": [
    "#pre requist steps \n",
    "#1 . understanding of flask framework\n",
    "#2. python ide (ex . Pycharm,Spyder)\n",
    "#3. Google cloud plateform account\n",
    "#4. basic understanding of  html\n",
    "\n",
    "#Deployment to Gcloud\n",
    "#1. create an acount in gcloud\n",
    "#2. go to IAM and admin and clicked manage resources\n",
    "#3. click create  project and create a project.\n",
    "#4. once the project is created select App Engine and select dashboard\n",
    "#4. download the gcloud SDk  in machine\n",
    "#5. click start tutorials and selct python app and start and end the this task\n",
    "#6.Create a file ‘app.yaml’ and put ‘runtime: python37’ in that file\n",
    "#7. python application file should be called ‘main.py’. It is a GCP specific requirement\n",
    "#8. Open command prompt window, navigate to the project folder and enter the command gcloud init to initialise the gcloud context.\n",
    "#9. select project name \n",
    "#10. the project name is selected, enter the command gcloud app deploy app.yaml --project\n",
    "#11. After executing the above command, GCP will ask you to enter the region for your application.\n",
    "#12. GCP will ask for the services to be deployed. Enter ‘y’ to deploy the services\n",
    "#13. then it will give you the link for your app''' "
   ]
  },
  {
   "cell_type": "markdown",
   "metadata": {},
   "source": [
    "32. What difficulties did you face in cloud deployment?"
   ]
  },
  {
   "cell_type": "code",
   "execution_count": 34,
   "metadata": {},
   "outputs": [],
   "source": [
    "# some time i forget the commad line interface\n",
    "# some time theirs a project id error occured\n",
    "#  some time the indendation error occur\n",
    "# memory computation error occure.\n",
    "# this are some  of the difficulty faced on the time of deployment"
   ]
  },
  {
   "cell_type": "code",
   "execution_count": null,
   "metadata": {},
   "outputs": [],
   "source": []
  }
 ],
 "metadata": {
  "kernelspec": {
   "display_name": "Python 3",
   "language": "python",
   "name": "python3"
  },
  "language_info": {
   "codemirror_mode": {
    "name": "ipython",
    "version": 3
   },
   "file_extension": ".py",
   "mimetype": "text/x-python",
   "name": "python",
   "nbconvert_exporter": "python",
   "pygments_lexer": "ipython3",
   "version": "3.8.3"
  }
 },
 "nbformat": 4,
 "nbformat_minor": 2
}
